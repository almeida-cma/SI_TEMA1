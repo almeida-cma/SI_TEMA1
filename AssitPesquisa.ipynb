{
  "nbformat": 4,
  "nbformat_minor": 0,
  "metadata": {
    "colab": {
      "provenance": [],
      "authorship_tag": "ABX9TyP9vkCWkljIo0JSqkxNU2vm",
      "include_colab_link": true
    },
    "kernelspec": {
      "name": "python3",
      "display_name": "Python 3"
    },
    "language_info": {
      "name": "python"
    }
  },
  "cells": [
    {
      "cell_type": "markdown",
      "metadata": {
        "id": "view-in-github",
        "colab_type": "text"
      },
      "source": [
        "<a href=\"https://colab.research.google.com/github/almeida-cma/SI_Tema1/blob/main/AssitPesquisa.ipynb\" target=\"_parent\"><img src=\"https://colab.research.google.com/assets/colab-badge.svg\" alt=\"Open In Colab\"/></a>"
      ]
    },
    {
      "cell_type": "code",
      "execution_count": null,
      "metadata": {
        "id": "8j7iZ2F2X9-7"
      },
      "outputs": [],
      "source": [
        "# Instala a biblioteca googlesearch-python\n",
        "#!pip install google\n",
        "\n",
        "# Importa a classe search da biblioteca googlesearch\n",
        "from googlesearch import search\n",
        "\n",
        "# Termo de pesquisa\n",
        "termo_pesquisa = \"Entendendo PHP\"\n",
        "\n",
        "# Realiza a pesquisa no Google e armazena os resultados\n",
        "resultados = search(termo_pesquisa, num=3, stop=3, pause=2)\n",
        "\n",
        "# Exibe os tópicos correlatos e sinônimos encontrados nos resultados da pesquisa\n",
        "print(\"Tópicos correlatos e sinônimos para o termo de pesquisa '\" + termo_pesquisa + \"':\")\n",
        "for idx, resultado in enumerate(resultados):\n",
        "    print(f\"{idx + 1}. {resultado}\")"
      ]
    }
  ]
}